{
 "cells": [
  {
   "cell_type": "code",
   "execution_count": 3,
   "id": "f4d99715-3895-4f07-a820-569385eb6b5d",
   "metadata": {},
   "outputs": [],
   "source": [
    "%pip install -U langchain-ollama"
   ]
  },
  {
   "cell_type": "code",
   "execution_count": 1,
   "id": "1821967e-8523-4536-b059-78e84a275690",
   "metadata": {},
   "outputs": [],
   "source": [
    "import os\n",
    "from   langchain_ollama       import ChatOllama\n",
    "from   langchain_core.prompts import ChatPromptTemplate"
   ]
  },
  {
   "cell_type": "code",
   "execution_count": null,
   "id": "bd10ab0f-ca11-45b5-90bd-25fca45258bd",
   "metadata": {},
   "outputs": [],
   "source": []
  },
  {
   "cell_type": "code",
   "execution_count": 7,
   "id": "3f64ac9b-7c21-4b32-ac64-bcc396403a2e",
   "metadata": {},
   "outputs": [],
   "source": [
    "# ENVIRONMENT\n",
    "# host = os.getenv('OLLAMA_HOST')\n",
    "# port = os.getenv('OLLAMA_PORT')\n",
    "\n",
    "host = \"212.189.145.27\"\n",
    "port = 11435\n",
    "\n",
    "# MODEL\n",
    "llm = ChatOllama(model=\"llama3.1\", base_url=\"http://{ip}:{port}\".format(ip=host, port=port), temperature=0)"
   ]
  },
  {
   "cell_type": "code",
   "execution_count": 8,
   "id": "d080bc72-d58c-4c2b-b8f4-33765a92bfa0",
   "metadata": {},
   "outputs": [],
   "source": [
    "# PROMPT DEFINITION\n",
    "system = \"\"\"\n",
    "You are an expert in text synthesize. \n",
    "You need to maintain the right contexts related to each sentence.\n",
    "In addition, you have to return a short text starting from a list of sentences.\n",
    "You do not have to use bulleted lists.\n",
    "The returned text has to be very clear.\n",
    "\"\"\"\n",
    "\n",
    "prompt = ChatPromptTemplate.from_messages(\n",
    "    [\n",
    "        (\"system\", system),\n",
    "        (\"human\" , \"{sentences}\"),\n",
    "    ]\n",
    ")"
   ]
  },
  {
   "cell_type": "code",
   "execution_count": 9,
   "id": "e4599a8c-71cc-45bb-8c29-025c53f1439d",
   "metadata": {},
   "outputs": [],
   "source": [
    "# SENTENCES\n",
    "sentences = [\n",
    "    \"Basigin (BSG, CD147) is a multifunctional protein involved in cancer cell survival, mostly by controlling lactate transport through its interaction with monocarboxylate transporters (MCTs) such as MCT1.\",\n",
    "    \"CD147 (basigin, BSG) is a membrane-bound glycoprotein involved in energy metabolism that plays a role in cancer cell survival. Its soluble form is a promising marker of some diseases, but it is otherwise poorly studied.\",\n",
    "    \"Basigin (BSG) is an essential factor for the infection and progression of COVID-19 and tumorigenesis of multiple tumors, which may serve as a novel target for the effective treatment against COVID-19 and multiple human cancers.\",\n",
    "    \"SARS-CoV-2 host receptors ACE2 and CD147 are present on the membrane of trophectoderm, epiblast and hypoblast cells in human blastocysts. CD147 is also present on the oolemma.\"\n",
    "]"
   ]
  },
  {
   "cell_type": "code",
   "execution_count": 10,
   "id": "d44ed331-ba19-4ecf-ad61-4999d96698f5",
   "metadata": {},
   "outputs": [],
   "source": [
    "# CHAIN\n",
    "chain = prompt | llm"
   ]
  },
  {
   "cell_type": "code",
   "execution_count": 11,
   "id": "72025ecb-69ba-41a5-acf0-9a8ab9998576",
   "metadata": {},
   "outputs": [
    {
     "data": {
      "text/plain": [
       "AIMessage(content='Basigin (BSG), also known as CD147, plays a crucial role in cancer cell survival by regulating lactate transport through its interaction with monocarboxylate transporters like MCT1. This multifunctional protein is involved in energy metabolism and has been implicated in the progression of COVID-19 and various human cancers. Interestingly, CD147 is also present on the membrane of trophectoderm, epiblast, and hypoblast cells in human blastocysts, suggesting its potential role in early embryonic development. Furthermore, the soluble form of CD147 has been identified as a promising marker for certain diseases, highlighting its importance in disease diagnosis and treatment.', response_metadata={'model': 'llama3.1', 'created_at': '2024-10-03T12:53:31.673202042Z', 'message': {'role': 'assistant', 'content': ''}, 'done_reason': 'stop', 'done': True, 'total_duration': 66308818851, 'load_duration': 5480931550, 'prompt_eval_count': 271, 'prompt_eval_duration': 19506371000, 'eval_count': 138, 'eval_duration': 41266731000}, id='run-b6a028c1-52b0-4afb-8580-12c6afd3fe6a-0', usage_metadata={'input_tokens': 271, 'output_tokens': 138, 'total_tokens': 409})"
      ]
     },
     "execution_count": 11,
     "metadata": {},
     "output_type": "execute_result"
    }
   ],
   "source": [
    "chain.invoke({\"sentences\": sentences})"
   ]
  },
  {
   "cell_type": "code",
   "execution_count": null,
   "id": "83a9e59b-57b9-4bc9-a448-45267d34b68d",
   "metadata": {},
   "outputs": [],
   "source": []
  }
 ],
 "metadata": {
  "kernelspec": {
   "display_name": "Python 3 (ipykernel)",
   "language": "python",
   "name": "python3"
  },
  "language_info": {
   "codemirror_mode": {
    "name": "ipython",
    "version": 3
   },
   "file_extension": ".py",
   "mimetype": "text/x-python",
   "name": "python",
   "nbconvert_exporter": "python",
   "pygments_lexer": "ipython3",
   "version": "3.12.4"
  }
 },
 "nbformat": 4,
 "nbformat_minor": 5
}
